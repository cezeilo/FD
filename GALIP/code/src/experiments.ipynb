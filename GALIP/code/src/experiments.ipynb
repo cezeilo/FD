{
 "cells": [
  {
   "cell_type": "code",
   "execution_count": 15,
   "metadata": {},
   "outputs": [],
   "source": [
    "import torch\n",
    "import os\n",
    "from PIL import Image\n",
    "import clip\n",
    "import os.path as osp\n",
    "import os, sys\n",
    "import torchvision.utils as vutils\n",
    "import string \n",
    "import pickle \n",
    "import numpy as np\n",
    "import shutil\n",
    "from numpy.random import shuffle\n",
    "sys.path.insert(0, '../')\n",
    "\n",
    "from lib.utils import load_model_weights,mkdir_p\n",
    "from models.GALIP import NetG, CLIP_TXT_ENCODER"
   ]
  },
  {
   "cell_type": "code",
   "execution_count": 3,
   "metadata": {},
   "outputs": [],
   "source": [
    "device = 'cpu' # 'cpu' # 'cuda:0'\n",
    "CLIP_text = \"ViT-B/32\"\n",
    "clip_model, preprocess = clip.load(\"ViT-B/32\", device=device)\n",
    "clip_model = clip_model.eval()"
   ]
  },
  {
   "cell_type": "code",
   "execution_count": 4,
   "metadata": {},
   "outputs": [],
   "source": [
    "text_encoder = CLIP_TXT_ENCODER(clip_model).to(device)\n",
    "netG = NetG(64, 100, 512, 256, 3, False, clip_model).to(device)\n",
    "#path = '../saved_models/pretrained/pre_cc12m.pth'\n",
    "path = '../saved_models/fonts/GALIP_nf64_normal_fonts_256_2023_04_10_20_51_54/state_epoch_380.pth'\n",
    "checkpoint = torch.load(path, map_location=torch.device('cpu'))\n",
    "netG = load_model_weights(netG, checkpoint['model']['netG'], multi_gpus=False)"
   ]
  },
  {
   "attachments": {},
   "cell_type": "markdown",
   "metadata": {},
   "source": [
    "## Experiment 1: Naturalness \n",
    "### Given 10 images of each character, how legible are the characters? \n",
    "####    Illegible; Somewhat Legible; Legible \n"
   ]
  },
  {
   "cell_type": "code",
   "execution_count": 16,
   "metadata": {},
   "outputs": [],
   "source": [
    "#Functions to implement that here \n",
    "e1_path = '../samples/e1'\n",
    "mkdir_p(e1_path)\n",
    "\n",
    "import string \n",
    "\n",
    "def generate_basic_caption_prompts():\n",
    "    captions = []\n",
    "    #lowercase\n",
    "    for i in string.ascii_lowercase:\n",
    "        x = 'A lowercase %s' % (i)\n",
    "        captions.append(x)\n",
    "    #uppercase\n",
    "    for i in string.ascii_uppercase:\n",
    "        x = 'An uppercase %s' % (i)\n",
    "        captions.append(x)\n",
    "\n",
    "    #digits\n",
    "    for i in string.digits:\n",
    "        x = 'The number %s' % (i)\n",
    "        captions.append(x)\n",
    "\n",
    "    return captions\n",
    "\n",
    "\n",
    "# Go through test pickle file to see fonts we can test with \n",
    "# Try to find one instance for each a-z, A-Z, and 0-9\n",
    "\n",
    "def get_captions_from_test_set():\n",
    "    test_pickle_path = '../data/fonts/test/filenames.pickle'\n",
    "    testing_file_names = pickle.load(open(test_pickle_path, 'rb'))\n",
    "\n",
    "    char_list = []\n",
    "    char_list.extend(string.ascii_letters)\n",
    "    char_list.extend(string.digits)\n",
    "\n",
    "    selected_file_paths = []\n",
    "    #Retrieve one file name for each character\n",
    "    for i in testing_file_names:\n",
    "        shuffle(testing_file_names)\n",
    "        char = i.split('\\\\')[0].split('_')[1]\n",
    "        if char in char_list:\n",
    "            char_list.remove(char)\n",
    "            selected_file_paths.append(i)\n",
    "\n",
    "    #For each selected path retrieve the corresponding caption \n",
    "    text_files_path = '../data//fonts//text'\n",
    "    testing_captions = [] \n",
    "\n",
    "    for i in selected_file_paths:\n",
    "        selected_file_text_path = os.path.join(text_files_path, i + '.txt')\n",
    "        with open(selected_file_text_path) as f:\n",
    "            caption_data = f.read()\n",
    "            testing_captions.append(caption_data)\n",
    "\n",
    "    return testing_captions\n",
    "    \n",
    "\n",
    "\n",
    "def experiment_1():\n",
    "    batch_size = 10\n",
    "    noise = torch.randn((batch_size, 100)).to(device)\n",
    "\n",
    "    caps = generate_basic_caption_prompts()\n",
    "\n",
    "    #Generate captions \n",
    "\n",
    "    # generate from text\n",
    "    with torch.no_grad():\n",
    "        for i in range(len(caps)):\n",
    "            caption = caps[i]\n",
    "            tokenized_text = clip.tokenize([caption]).to(device)\n",
    "            sent_emb, word_emb = text_encoder(tokenized_text)\n",
    "            sent_emb = sent_emb.repeat(batch_size,1)\n",
    "            fake_imgs = netG(noise,sent_emb,eval=True).float()\n",
    "            name = f'{caps[i].replace(\" \", \"-\")}'\n",
    "            vutils.save_image(fake_imgs.data, e1_path + '/%s.png'%(name), nrow=5, value_range=(-1, 1), normalize=True)\n",
    "\n",
    "#experiment_1()"
   ]
  },
  {
   "cell_type": "code",
   "execution_count": 53,
   "metadata": {},
   "outputs": [
    {
     "name": "stderr",
     "output_type": "stream",
     "text": [
      "C:\\Users\\rinat\\AppData\\Local\\Temp\\ipykernel_18084\\75036409.py:33: MatplotlibDeprecationWarning: Auto-removal of overlapping axes is deprecated since 3.6 and will be removed two minor releases later; explicitly call ax.remove() as needed.\n",
      "  plt.subplot(1, 2, 1)\n"
     ]
    },
    {
     "data": {
      "image/png": "[encoded data removed]",
      "text/plain": [
       "<Figure size 1500x500 with 2 Axes>"
      ]
     },
     "metadata": {},
     "output_type": "display_data"
    }
   ],
   "source": [
    "#Functions to process human evaluations into graphs here \n",
    "#sheet_url = 'https://docs.google.com/spreadsheets/d/1VB10WsgaWIzCrovDXRroJTSkjH0z4ARo0PgrkAkyOI8/'\n",
    "import pandas as pd \n",
    "import matplotlib.pyplot as plt \n",
    "csv_path = 'AI Font Generation Evaluation (Responses) - Form Responses 1.csv'\n",
    "df = pd.read_csv(csv_path)\n",
    "required_cols = [2,53]\n",
    "lower_char_legibility_map = {} #For each character, map legibility \n",
    "upper_char_legibility_map = {}\n",
    "\n",
    "head = df.head()\n",
    "num_legibility_scores = len(head.iloc[:, 2].values)\n",
    "\n",
    "alphabet_ctr = 0\n",
    "for i in range(required_cols[0], required_cols[1], 2):\n",
    "    lower_label = string.ascii_lowercase[alphabet_ctr]\n",
    "    upper_label = string.ascii_uppercase[alphabet_ctr]\n",
    "\n",
    "\n",
    "    lower_label_legibility_score = head.iloc[:, i].values.sum()\n",
    "    upper_label_legibility_score = head.iloc[:, i+1].values.sum()\n",
    "\n",
    "    lower_label_legibility_score /= num_legibility_scores\n",
    "    upper_label_legibility_score /= num_legibility_scores\n",
    "\n",
    "    lower_char_legibility_map[lower_label] = lower_label_legibility_score\n",
    "    upper_char_legibility_map[upper_label] = upper_label_legibility_score\n",
    "\n",
    "    alphabet_ctr += 1 \n",
    "\n",
    "plt.subplots(figsize=(15, 5))\n",
    "\n",
    "plt.subplot(1, 2, 1)\n",
    "plt.title('Avg. Score for lower characters')\n",
    "plt.bar(range(len(lower_char_legibility_map)), list(lower_char_legibility_map.values()), tick_label=list(lower_char_legibility_map.keys()))\n",
    "\n",
    "plt.subplot(1, 2, 2)\n",
    "plt.title('Avg. Score for upper characters')\n",
    "plt.bar(range(len(upper_char_legibility_map)), list(upper_char_legibility_map.values()), tick_label=list(upper_char_legibility_map.keys()))\n",
    "plt.savefig('experiment1')"
   ]
  },
  {
   "cell_type": "code",
   "execution_count": 61,
   "metadata": {},
   "outputs": [
    {
     "data": {
      "text/plain": [
       "0    3\n",
       "1    3\n",
       "2    2\n",
       "3    3\n",
       "Name: How well do the generated characters follow the following prompt: \\n\\nLabel: lowercase a \\nCharacteristics: Blocky\\nFont Properties: Black weight, square corner rounding, sans serif, static, extended width, all-caps font , dtype: int64"
      ]
     },
     "execution_count": 61,
     "metadata": {},
     "output_type": "execute_result"
    }
   ],
   "source": [
    "head.iloc[:, 54]"
   ]
  },
  {
   "attachments": {},
   "cell_type": "markdown",
   "metadata": {},
   "source": [
    "## Experiment 2: Faithfulness\n",
    "### Given 10 images of each character, how faithful are the characters to the prompt?\n",
    "####    Not faithful; charachter only; character + some characteristics or properties; Faithful \n"
   ]
  },
  {
   "cell_type": "code",
   "execution_count": 12,
   "metadata": {},
   "outputs": [],
   "source": [
    "#Functions to implement here \n",
    "e2_path = '../samples/e2'\n",
    "mkdir_p(e2_path)\n",
    "\n",
    "#Note: the same thing as #1 if using captions from test set \n",
    "def experiment_2():\n",
    "    batch_size = 10\n",
    "    noise = torch.randn((batch_size, 100)).to(device)\n",
    "\n",
    "    caps = get_captions_from_test_set()\n",
    "\n",
    "    #Generate captions \n",
    "\n",
    "    # generate from text\n",
    "    with torch.no_grad():\n",
    "        for i in range(len(caps)):\n",
    "            caption = caps[i]\n",
    "            tokenized_text = clip.tokenize([caption]).to(device)\n",
    "            sent_emb, word_emb = text_encoder(tokenized_text)\n",
    "            sent_emb = sent_emb.repeat(batch_size,1)\n",
    "            fake_imgs = netG(noise,sent_emb,eval=True).float()\n",
    "            name = f'{caps[i].replace(\" \", \"-\")}'\n",
    "            vutils.save_image(fake_imgs.data, e2_path + '/%s.png'%(name), nrow=5, value_range=(-1, 1), normalize=True)\n",
    "\n",
    "experiment_2()\n"
   ]
  },
  {
   "cell_type": "code",
   "execution_count": 63,
   "metadata": {},
   "outputs": [
    {
     "name": "stderr",
     "output_type": "stream",
     "text": [
      "C:\\Users\\rinat\\AppData\\Local\\Temp\\ipykernel_18084\\2802293801.py:28: MatplotlibDeprecationWarning: Auto-removal of overlapping axes is deprecated since 3.6 and will be removed two minor releases later; explicitly call ax.remove() as needed.\n",
      "  plt.subplot(1, 2, 1)\n"
     ]
    },
    {
     "data": {
      "image/png": "[encoded data removed]",
      "text/plain": [
       "<Figure size 1500x500 with 2 Axes>"
      ]
     },
     "metadata": {},
     "output_type": "display_data"
    }
   ],
   "source": [
    "#Functions to process human eval here \n",
    "\n",
    "required_cols = [54,105]\n",
    "lower_char_faithfulness_map = {} #For each character, map legibility \n",
    "upper_char_faithfulness_map = {}\n",
    "\n",
    "num_faithfulness_scores = len(head.iloc[:, 54].values)\n",
    "\n",
    "alphabet_ctr = 0\n",
    "for i in range(required_cols[0], required_cols[1], 2):\n",
    "    lower_label = string.ascii_lowercase[alphabet_ctr]\n",
    "    upper_label = string.ascii_uppercase[alphabet_ctr]\n",
    "\n",
    "\n",
    "    lower_label_faithfulness_score = head.iloc[:, i].values.sum()\n",
    "    upper_label_faithfulness_score = head.iloc[:, i+1].values.sum()\n",
    "\n",
    "    lower_label_faithfulness_score /= num_faithfulness_scores\n",
    "    upper_label_faithfulness_score /= num_faithfulness_scores\n",
    "\n",
    "    lower_char_faithfulness_map[lower_label] = lower_label_faithfulness_score\n",
    "    upper_char_faithfulness_map[upper_label] = upper_label_faithfulness_score\n",
    "\n",
    "    alphabet_ctr += 1 \n",
    "\n",
    "plt.subplots(figsize=(15, 5))\n",
    "\n",
    "plt.subplot(1, 2, 1)\n",
    "plt.title('Avg. Score for lower characters')\n",
    "plt.bar(range(len(lower_char_faithfulness_map)), list(lower_char_faithfulness_map.values()), tick_label=list(lower_char_faithfulness_map.keys()))\n",
    "\n",
    "plt.subplot(1, 2, 2)\n",
    "plt.title('Avg. Score for upper characters')\n",
    "plt.bar(range(len(upper_char_faithfulness_map)), list(upper_char_faithfulness_map.values()), tick_label=list(upper_char_faithfulness_map.keys()))\n",
    "plt.savefig('experiment2')"
   ]
  },
  {
   "attachments": {},
   "cell_type": "markdown",
   "metadata": {},
   "source": [
    "## Experiment 3: Machine generated characters vs Human designed characters\n",
    "### Given 50 images (25 real, 25 machine generated) decide which one looks created by a designer and which one looks made by a machine\n",
    "####    Machine-made; unsure; man-made  \n"
   ]
  },
  {
   "cell_type": "code",
   "execution_count": 11,
   "metadata": {},
   "outputs": [],
   "source": [
    "#Functions to implement here\n",
    "e3_path = '../samples/e3'\n",
    "real = '../samples/e3/real'\n",
    "fake = '../samples/e3/fake'\n",
    "mkdir_p(e3_path)\n",
    "mkdir_p(real)\n",
    "mkdir_p(fake)\n",
    "\n",
    "def get_real_images(image_path, img_count, save_path):\n",
    "    #Loop through real image directory and get list of all images \n",
    "        #Randomly select 'img_count' images\n",
    "        #Save those images to save_path\n",
    "\n",
    "    ims = []\n",
    "    for path, subdirs, files in os.walk(image_path):\n",
    "        for name in files:\n",
    "            ims.append(os.path.join(path, name))\n",
    "    chosen_image_paths = np.random.choice(ims, img_count, replace=False)\n",
    "\n",
    "    #Save images to save_path\n",
    "    for i in chosen_image_paths:\n",
    "        file_name = i.split('\\\\')[-1]\n",
    "        destination_path = os.path.join(os.path.abspath(e3_path), file_name)\n",
    "        shutil.copy(i, os.path.join(save_path, 'real', file_name))\n",
    "    pass \n",
    "\n",
    "#Give me the path to the text data and a file name; I will return its contennts\n",
    "def get_text_prompt(text_path, text_file_name):\n",
    "    caption_data = ''\n",
    "    selected_file_text_path = os.path.join(text_path, text_file_name + '.txt')\n",
    "    with open(selected_file_text_path) as f:\n",
    "        caption_data = f.read()\n",
    "    return caption_data \n",
    "\n",
    "def get_fake_images(test_pickle_path, text_path, save_path, img_num):\n",
    "    testing_file_names = pickle.load(open(test_pickle_path, 'rb'))\n",
    "\n",
    "    char_list = []\n",
    "    char_list.extend(string.ascii_letters)\n",
    "    char_list.extend(string.digits)\n",
    "\n",
    "    selected_file_paths = []\n",
    "    #Retrieve one file name for each character\n",
    "    for i in testing_file_names:\n",
    "        char = i.split('\\\\')[0].split('_')[1]\n",
    "        if char in char_list:\n",
    "            char_list.remove(char)\n",
    "            selected_file_paths.append(i)\n",
    "\n",
    "    #For each selected path retrieve the corresponding caption\n",
    "    #   Then use that caption to generate a singular image \n",
    "    #   Lastly, save that image to save_path \n",
    "    #  \n",
    "    \n",
    "    captions = []\n",
    "    chosen_paths = np.random.choice(selected_file_paths, img_num, replace=False)\n",
    "    for i in chosen_paths:\n",
    "        caption = get_text_prompt(text_path, i)\n",
    "        captions.append(caption)\n",
    "        # generate from text\n",
    "    \n",
    "    batch_size = 1\n",
    "    noise = torch.randn((batch_size, 100)).to(device)\n",
    "\n",
    "    with torch.no_grad():\n",
    "        for i in range(len(captions)):\n",
    "            caption = captions[i]\n",
    "            tokenized_text = clip.tokenize([caption]).to(device)\n",
    "            sent_emb, word_emb = text_encoder(tokenized_text)\n",
    "            sent_emb = sent_emb.repeat(batch_size,1)\n",
    "            fake_imgs = netG(noise,sent_emb,eval=True).float()\n",
    "            name = f'{captions[i].replace(\" \", \"-\")}'\n",
    "            vutils.save_image(fake_imgs.data, os.path.join(save_path, 'fake/') + '/%s.png'%(name), nrow=5, value_range=(-1, 1), normalize=True)\n",
    "\n",
    "         \n",
    " \n",
    "\n",
    "def get_images():\n",
    "    image_path = '../data/fonts/images'\n",
    "    test_pickle_path = '../data/fonts/test/filenames.pickle'\n",
    "    save_path = e3_path\n",
    "    text_path = '../data/fonts/text'\n",
    "    get_real_images(image_path, 25, save_path)\n",
    "    get_fake_images(test_pickle_path, text_path, save_path, 25)\n",
    "\n",
    "get_images()\n"
   ]
  },
  {
   "cell_type": "code",
   "execution_count": 102,
   "metadata": {},
   "outputs": [
    {
     "name": "stdout",
     "output_type": "stream",
     "text": [
      "TN:  60 FP: 40 FN: 53 TP: 47\n"
     ]
    },
    {
     "data": {
      "image/png": "[encoded data removed]",
      "text/plain": [
       "<Figure size 640x480 with 2 Axes>"
      ]
     },
     "metadata": {},
     "output_type": "display_data"
    }
   ],
   "source": [
    "#Functions to process human eval here \n",
    "from sklearn import metrics\n",
    "\n",
    "lab = 25 * ['Human']\n",
    "actual = 25 * ['Machine']\n",
    "actual.extend(lab)   #First 25 are fake, last 25 are real \n",
    "\n",
    "responses = [] \n",
    "\n",
    "required_cols = [106,156]\n",
    "\n",
    "\n",
    "num_responses = len(head.iloc[:, 106].values)\n",
    "\n",
    "alphabet_ctr = 0\n",
    "for i in range(num_responses):\n",
    "    user_response = head.iloc[i, required_cols[0]:required_cols[1]].values\n",
    "    responses.extend(user_response)\n",
    "\n",
    "\n",
    "actual = num_responses * actual\n",
    "\n",
    "confusion_matrix = metrics.confusion_matrix(actual, responses)\n",
    "cm_display = metrics.ConfusionMatrixDisplay(confusion_matrix = confusion_matrix, display_labels = ['Machine', 'Human'])\n",
    "\n",
    "tn, fp, fn, tp = confusion_matrix.ravel()\n",
    "print('TN: ', tn , 'FP:', fp, 'FN:', fn, 'TP:', tp)\n",
    "cm_display.plot()\n",
    "plt.show()\n",
    "\n",
    "#plt.savefig('experiment2')\n"
   ]
  },
  {
   "cell_type": "code",
   "execution_count": null,
   "metadata": {},
   "outputs": [],
   "source": []
  },
  {
   "cell_type": "code",
   "execution_count": 5,
   "metadata": {},
   "outputs": [
    {
     "name": "stdout",
     "output_type": "stream",
     "text": [
      "A lowercase y which has traits childlike cartoon and properties regular rounded sans serif dynamic regular mixed caps\n"
     ]
    }
   ],
   "source": [
    "# Go through test pickle file to see fonts we can test with \n",
    "# Try to find one instance for each a-z, A-Z, and 0-9\n",
    "\n",
    "def get_captions_from_test_set():\n",
    "    test_pickle_path = '../data/fonts/test/filenames.pickle'\n",
    "    testing_file_names = pickle.load(open(test_pickle_path, 'rb'))\n",
    "\n",
    "    char_list = []\n",
    "    char_list.extend(string.ascii_letters)\n",
    "    char_list.extend(string.digits)\n",
    "\n",
    "    selected_file_paths = []\n",
    "    #Retrieve one file name for each character\n",
    "    for i in testing_file_names:\n",
    "        char = i.split('\\\\')[0].split('_')[1]\n",
    "        if char in char_list:\n",
    "            char_list.remove(char)\n",
    "            selected_file_paths.append(i)\n",
    "\n",
    "    #For each selected path retrieve the corresponding caption \n",
    "    text_files_path = '../data/fonts/text'\n",
    "    testing_captions = [] \n",
    "\n",
    "    for i in selected_file_paths:\n",
    "        selected_file_text_path = os.path.join(text_files_path, i + '.txt')\n",
    "        with open(selected_file_text_path) as f:\n",
    "            caption_data = f.read()\n",
    "            testing_captions.append(caption_data)\n",
    "\n",
    "    return caption_data \n",
    "    "
   ]
  },
  {
   "cell_type": "code",
   "execution_count": 15,
   "metadata": {},
   "outputs": [],
   "source": [
    "root = '../code/samples/e3_model1'\n",
    "ord = []\n",
    "for path, subdirs, files in os.walk(root):\n",
    "    for name in files:\n",
    "        ord.append(name)\n",
    "\n",
    "with open(os.path.join(root, 'order.txt'), 'w') as f:\n",
    "    for i in ord:\n",
    "        f.write(i)\n",
    "        f.write('\\n')"
   ]
  },
  {
   "attachments": {},
   "cell_type": "markdown",
   "metadata": {},
   "source": [
    "## Experiment 4: Model Comparison \n",
    "### Comparing model A which is trained on data split equally across all fonts (ie. lower_a_roboto can be in train while lower_c_roboto can be in test) with model B which is trained on data split BY FONT (entirety of roboto in train)"
   ]
  },
  {
   "cell_type": "code",
   "execution_count": 17,
   "metadata": {},
   "outputs": [],
   "source": [
    "# Load model B \n",
    "text_encoder = CLIP_TXT_ENCODER(clip_model).to(device)\n",
    "netG = NetG(64, 100, 512, 256, 3, False, clip_model).to(device)\n",
    "#path = '../saved_models/pretrained/pre_cc12m.pth'\n",
    "#path_A = '../saved_models/fonts/GALIP_nf64_normal_fonts_256_2023_04_10_20_51_54/state_epoch_380.pth'\n",
    "path_B = '../saved_models/fonts/GALIP_nf64_normal_fonts_256_2023_04_27_09_10_54/state_epoch_380.pth'\n",
    "\n",
    "#checkpoint_A = torch.load(path, map_location=torch.device('cpu'))\n",
    "checkpoint_B = torch.load(path_B, map_location=torch.device('cpu'))\n",
    "\n",
    "#netG_A = load_model_weights(netG, checkpoint_A['model']['netG'], multi_gpus=False)\n",
    "netG_B =load_model_weights(netG, checkpoint_B['model']['netG'], multi_gpus=False)\n",
    "\n",
    "# Select 10 random instances from Model B's test set and see perforamnce \n",
    "# See if it can understand compositionality of prompts\n",
    "\n",
    "caps = get_captions_from_test_set()\n",
    "\n",
    "batch_size = 10\n",
    "noise = torch.randn((batch_size, 100)).to(device)\n",
    "e4_path = '../samples/e4'\n",
    "\n",
    "#os.makedirs(e4_path)\n",
    "\n",
    "# generate from text\n",
    "with torch.no_grad():\n",
    "    for i in range(len(caps)):\n",
    "        caption = caps[i]\n",
    "        tokenized_text = clip.tokenize([caption]).to(device)\n",
    "        sent_emb, word_emb = text_encoder(tokenized_text)\n",
    "        sent_emb = sent_emb.repeat(batch_size,1)\n",
    "        fake_imgs = netG_B(noise,sent_emb,eval=True).float()\n",
    "        name = f'{caps[i].replace(\" \", \"-\")}'\n",
    "        vutils.save_image(fake_imgs.data, e4_path + '/%s.png'%(name), nrow=5, value_range=(-1, 1), normalize=True)\n",
    "\n"
   ]
  },
  {
   "cell_type": "code",
   "execution_count": null,
   "metadata": {},
   "outputs": [],
   "source": []
  }
 ],
 "metadata": {
  "kernelspec": {
   "display_name": "dfgan",
   "language": "python",
   "name": "python3"
  },
  "language_info": {
   "codemirror_mode": {
    "name": "ipython",
    "version": 3
   },
   "file_extension": ".py",
   "mimetype": "text/x-python",
   "name": "python",
   "nbconvert_exporter": "python",
   "pygments_lexer": "ipython3",
   "version": "3.9.0"
  },
  "orig_nbformat": 4,
  "vscode": {
   "interpreter": {
    "hash": "849434eb86c3997df801551b732438d01b491303b69c29efcf332721ce6d8430"
   }
  }
 },
 "nbformat": 4,
 "nbformat_minor": 2
}
